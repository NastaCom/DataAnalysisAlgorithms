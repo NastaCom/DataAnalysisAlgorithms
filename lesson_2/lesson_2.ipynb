{
 "cells": [
  {
   "cell_type": "code",
   "execution_count": 11,
   "id": "funky-western",
   "metadata": {},
   "outputs": [],
   "source": [
    "import numpy as np\n",
    "from sklearn import datasets\n",
    "import matplotlib.pyplot as plt\n",
    "\n",
    "%matplotlib inline"
   ]
  },
  {
   "cell_type": "code",
   "execution_count": 12,
   "id": "standard-committee",
   "metadata": {},
   "outputs": [],
   "source": [
    "# сгенерируем набор данных\n",
    "data, target, coef = datasets.make_regression(n_samples=1000, n_features = 2, n_informative = 2, n_targets = 1, \n",
    "                                              noise = 5, coef = True, random_state = 2)"
   ]
  },
  {
   "cell_type": "code",
   "execution_count": 13,
   "id": "velvet-halifax",
   "metadata": {},
   "outputs": [
    {
     "data": {
      "text/plain": [
       "array([62.6735955, 68.0472182])"
      ]
     },
     "execution_count": 13,
     "metadata": {},
     "output_type": "execute_result"
    }
   ],
   "source": [
    "X = data.T.copy()\n",
    "y = target.copy()\n",
    "coef"
   ]
  },
  {
   "cell_type": "code",
   "execution_count": 14,
   "id": "injured-stack",
   "metadata": {},
   "outputs": [],
   "source": [
    "# реализуем функцию, определяющую среднеквадратичную ошибку\n",
    "def calc_mse(y, y_pred):\n",
    "    err = np.mean((y - y_pred)**2)\n",
    "    return err"
   ]
  },
  {
   "cell_type": "code",
   "execution_count": 20,
   "id": "simple-uganda",
   "metadata": {},
   "outputs": [],
   "source": [
    "def eval_model(X, y, iterations, alpha=1e-4):\n",
    "    r_eval = []\n",
    "    a = []\n",
    "    W = np.random.randn(X.shape[0])\n",
    "    n = X.shape[1]\n",
    "    for i in range(1, iterations+1):\n",
    "        y_pred = np.dot(W, X)\n",
    "        err = calc_mse(y, y_pred)\n",
    "        W -= (alpha * (1/n * 2 * np.dot((y_pred - y), X.T)))\n",
    "        if i % (iterations / 10) == 0:\n",
    "            print(i, W, err)\n",
    "        r_eval.append([i, err])\n",
    "    r_eval  = np.asarray(r_eval)        \n",
    "    return W, r_eval"
   ]
  },
  {
   "cell_type": "code",
   "execution_count": 21,
   "id": "joined-savannah",
   "metadata": {},
   "outputs": [
    {
     "name": "stdout",
     "output_type": "stream",
     "text": [
      "100 [53.24736421 58.55523249] 202.15752601274872\n",
      "200 [60.99693431 66.87701837] 30.137723976688044\n",
      "300 [62.13302218 68.07728146] 26.504325384374987\n",
      "400 [62.29943271 68.25052758] 26.4275620004925\n",
      "500 [62.32378977 68.2755512 ] 26.425939884317245\n",
      "600 [62.32735247 68.27916788] 26.425905601184706\n",
      "700 [62.32787328 68.2796909 ] 26.425904876520814\n",
      "800 [62.32794937 68.27976658] 26.42590486120149\n",
      "900 [62.32796048 68.27977753] 26.425904860877615\n",
      "1000 [62.3279621  68.27977912] 26.425904860870762\n"
     ]
    },
    {
     "data": {
      "text/plain": [
       "array([62.3279621 , 68.27977912])"
      ]
     },
     "execution_count": 21,
     "metadata": {},
     "output_type": "execute_result"
    }
   ],
   "source": [
    "r_eval = np.array([])\n",
    "W_eval, r_eval = eval_model(X, y, iterations=1000, alpha=1e-2)\n",
    "W_eval"
   ]
  },
  {
   "cell_type": "code",
   "execution_count": 22,
   "id": "suited-mathematics",
   "metadata": {},
   "outputs": [],
   "source": [
    "def eval_sgd_model(X, y, iterations, qty_in_batch=1, alpha=1e-4):\n",
    "    r_sgb = []\n",
    "    W = np.random.randn(X.shape[0])\n",
    "    n = X.shape[1]\n",
    "    n_batch = n // qty_in_batch\n",
    "    if n % qty_in_batch != 0:\n",
    "        n_batch += 1\n",
    "    for i in range(1, iterations+1):\n",
    "        for b in range(n_batch):\n",
    "            start_ = qty_in_batch*b\n",
    "            end_ = qty_in_batch*(b+1)\n",
    "\n",
    "            # print(b, n_batch, start_, end_)\n",
    "\n",
    "            X_tmp = X[:, start_ : end_]\n",
    "            y_tmp = y[start_ : end_]\n",
    "            y_pred_tmp = np.dot(W, X_tmp)\n",
    "            err = calc_mse(y_tmp, y_pred_tmp)\n",
    "            W -= (alpha * (1/n * 2 * np.dot((y_pred_tmp - y_tmp), X_tmp.T)))\n",
    "\n",
    "        if i % (iterations / 10) == 0:\n",
    "            print(i, W, err)\n",
    "        r_sgb.append([i, err])\n",
    "    r_sgb  = np.asarray(r_sgb)\n",
    "    return W, r_sgb"
   ]
  },
  {
   "cell_type": "code",
   "execution_count": 23,
   "id": "limiting-society",
   "metadata": {},
   "outputs": [
    {
     "name": "stdout",
     "output_type": "stream",
     "text": [
      "100 [53.24785532 58.46131062] 3.38151962857932\n",
      "200 [60.97120925 66.8370285 ] 23.548186376901413\n",
      "300 [62.12488836 68.06712937] 28.02816077944817\n",
      "400 [62.29707026 68.24792602] 28.717884560601085\n",
      "500 [62.32274788 68.27451757] 28.819821149986463\n",
      "600 [62.32657457 68.27843117] 28.834809826133085\n",
      "700 [62.32714451 68.27900749] 28.83701348904012\n",
      "800 [62.32722934 68.2790924 ] 28.837337656941024\n",
      "900 [62.32724197 68.27910492] 28.837385372491738\n",
      "1000 [62.32724384 68.27910676] 28.837392399956283\n"
     ]
    },
    {
     "data": {
      "text/plain": [
       "array([62.32724384, 68.27910676])"
      ]
     },
     "execution_count": 23,
     "metadata": {},
     "output_type": "execute_result"
    }
   ],
   "source": [
    "r_sgb = np.array([])\n",
    "w_sgb, r_sgb = eval_sgd_model(X, y, iterations=1000, qty_in_batch=1, alpha=1e-2)\n",
    "w_sgb"
   ]
  },
  {
   "cell_type": "code",
   "execution_count": 24,
   "id": "immediate-jungle",
   "metadata": {},
   "outputs": [
    {
     "data": {
      "image/png": "[encoded data removed]",
      "text/plain": [
       "<Figure size 936x432 with 1 Axes>"
      ]
     },
     "metadata": {
      "needs_background": "light"
     },
     "output_type": "display_data"
    }
   ],
   "source": [
    "plt.figure(figsize=(13, 6))\n",
    "plt.title('MSE в зависимости от метода')\n",
    "plt.xlabel(r'Iterations')\n",
    "plt.ylabel(r'MSE')\n",
    "\n",
    "plt.plot(r_sgb[:, 0], r_sgb[:, 1], r_eval[:, 0], r_eval[:, 1])\n",
    "plt.legend((\"SGB\", \"EVAL\"))\n",
    "plt.show()"
   ]
  },
  {
   "cell_type": "code",
   "execution_count": 25,
   "id": "finite-hundred",
   "metadata": {},
   "outputs": [],
   "source": [
    "def eval_model_reg2(X, y, iterations, alpha=1e-4, lambda_=1e-8):\n",
    "    r_l2 = []\n",
    "    np.random.seed(42)\n",
    "    W = np.random.randn(X.shape[0])\n",
    "    n = X.shape[1]\n",
    "    for i in range(1, iterations+1):\n",
    "        y_pred = np.dot(W, X)\n",
    "        err = calc_mse(y, y_pred)\n",
    "        W -= alpha * (1/n * 2 * np.dot((y_pred - y), X.T) + lambda_ * W) \n",
    "        if i % (iterations / 10) == 0:\n",
    "            print(i, W, err)\n",
    "        r_l2.append([i, err])\n",
    "    r_l2  = np.asarray(r_l2)\n",
    "    return W, r_l2"
   ]
  },
  {
   "cell_type": "code",
   "execution_count": 26,
   "id": "imposed-harvest",
   "metadata": {},
   "outputs": [
    {
     "name": "stdout",
     "output_type": "stream",
     "text": [
      "100 [53.24725692 58.42308297] 204.73733808633978\n",
      "200 [60.99331793 66.85593124] 30.20630304070666\n",
      "300 [62.1295916  68.07132914] 26.508043574077455\n",
      "400 [62.29611853 68.24664146] 26.427992927135143\n",
      "500 [62.32050396 68.27194766] 26.42601898540432\n",
      "600 [62.32407225 68.27560306] 26.42593615920742\n",
      "700 [62.32459406 68.27613139] 26.425928432741667\n",
      "800 [62.32467032 68.2762078 ] 26.425927400852117\n",
      "900 [62.32468146 68.27621886] 26.42592725279169\n",
      "1000 [62.32468309 68.27622046] 26.425927231310766\n"
     ]
    },
    {
     "data": {
      "text/plain": [
       "array([62.32468309, 68.27622046])"
      ]
     },
     "execution_count": 26,
     "metadata": {},
     "output_type": "execute_result"
    }
   ],
   "source": [
    "r_l2 = np.array([])\n",
    "W_l2, r_l2 = eval_model_reg2(X, y, iterations=1000, alpha=1e-2, lambda_=1e-4)\n",
    "W_l2"
   ]
  },
  {
   "cell_type": "code",
   "execution_count": 27,
   "id": "apparent-secondary",
   "metadata": {},
   "outputs": [],
   "source": [
    "def eval_model_reg3(X, y, iterations, alpha=1e-4, lambda_=1e-8):\n",
    "    r_l1 = []\n",
    "    np.random.seed(42)\n",
    "    W = np.random.randn(X.shape[0])\n",
    "    n = X.shape[1]\n",
    "    for i in range(1, iterations+1):\n",
    "        y_pred = np.dot(W, X)\n",
    "        err = calc_mse(y, y_pred)\n",
    "        W -= alpha * (1/n * 2 * np.dot((y_pred - y), X.T) + lambda_/2) \n",
    "        if i % (iterations / 10) == 0:\n",
    "            print(i, W, err)\n",
    "        r_l1.append([i, err])\n",
    "    r_l1  = np.asarray(r_l1)\n",
    "    return W, r_l1"
   ]
  },
  {
   "cell_type": "code",
   "execution_count": 28,
   "id": "trained-gates",
   "metadata": {},
   "outputs": [
    {
     "name": "stdout",
     "output_type": "stream",
     "text": [
      "100 [53.24910717 58.42510163] 204.66655567526826\n",
      "200 [60.99622931 66.85910068] 30.18999443781989\n",
      "300 [62.13277446 68.0747884 ] 26.505432587655942\n",
      "400 [62.29935816 68.2501604 ] 26.427587682042233\n",
      "500 [62.32375439 68.2754778 ] 26.42594079248447\n",
      "600 [62.32732462 68.27913519] 26.425905675152876\n",
      "700 [62.32784676 68.27966387] 26.425904887152434\n",
      "800 [62.32792308 68.27974033] 26.425904863839918\n",
      "900 [62.32793423 68.2797514 ] 26.425904862379394\n",
      "1000 [62.32793586 68.279753  ] 26.425904862207812\n"
     ]
    },
    {
     "data": {
      "text/plain": [
       "array([62.32793586, 68.279753  ])"
      ]
     },
     "execution_count": 28,
     "metadata": {},
     "output_type": "execute_result"
    }
   ],
   "source": [
    "r_l1 = np.array([])\n",
    "W_l1, r_l1 = eval_model_reg3(X, y, iterations=1000, alpha=1e-2, lambda_=1e-4)\n",
    "W_l1"
   ]
  },
  {
   "cell_type": "code",
   "execution_count": 29,
   "id": "harmful-curtis",
   "metadata": {},
   "outputs": [
    {
     "data": {
      "image/png": "[encoded data removed]",
      "text/plain": [
       "<Figure size 936x432 with 1 Axes>"
      ]
     },
     "metadata": {
      "needs_background": "light"
     },
     "output_type": "display_data"
    }
   ],
   "source": [
    "plt.figure(figsize=(13, 6))\n",
    "plt.title('MSE в зависимости от метода')\n",
    "plt.xlabel(r'Iterations')\n",
    "plt.ylabel(r'MSE')\n",
    "\n",
    "plt.plot(r_sgb[:, 0], r_sgb[:, 1], r_l1[:, 0], r_l1[:, 1], r_l2[:, 0], r_l2[:, 1])\n",
    "plt.legend((\"SGB\", \"L1\", \"L2\"))\n",
    "plt.show()"
   ]
  },
  {
   "cell_type": "code",
   "execution_count": null,
   "id": "comparative-marking",
   "metadata": {},
   "outputs": [],
   "source": []
  }
 ],
 "metadata": {
  "kernelspec": {
   "display_name": "Python 3",
   "language": "python",
   "name": "python3"
  },
  "language_info": {
   "codemirror_mode": {
    "name": "ipython",
    "version": 3
   },
   "file_extension": ".py",
   "mimetype": "text/x-python",
   "name": "python",
   "nbconvert_exporter": "python",
   "pygments_lexer": "ipython3",
   "version": "3.7.9"
  }
 },
 "nbformat": 4,
 "nbformat_minor": 5
}
